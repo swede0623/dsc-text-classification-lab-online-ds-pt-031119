{
 "cells": [
  {
   "cell_type": "markdown",
   "metadata": {},
   "source": [
    "# Text Classification - Lab\n",
    "\n",
    "## Introduction\n",
    "\n",
    "In this lab, we'll use everything we've learned so far to build a model that can classify a text document as one of many possible classes!\n",
    "\n",
    "## Objectives\n",
    "\n",
    "You will be able to:\n",
    "\n",
    "* Generate and select appropriate features from a corpus for text classification using NLTK\n",
    "* Preprocess, tokenize, and vectorize a dataset using professional tools such as NLTK and scikit-learn\n",
    "* Demonstrate a working knowledge of best practices for preprocessing a dataset for text classification.\n",
    "\n",
    "\n",
    "# Getting Started\n",
    "\n",
    "For this lab, we'll be working with the classic **_Newsgroups Dataset_**, which is available as a training data set inside of `sklearn.datasets`. This dataset contains many different articles that fall into 1 of 20 possible classes. Our goal will be to build a classifier that can accurately predict the class of an article based on the features we create from the article itself!\n",
    "\n",
    "Let's get started. Run the cell below to import everything we'll need for this lab. "
   ]
  },
  {
   "cell_type": "code",
   "execution_count": 1,
   "metadata": {},
   "outputs": [],
   "source": [
    "import nltk\n",
    "from nltk.corpus import stopwords\n",
    "import string\n",
    "from nltk import word_tokenize, FreqDist\n",
    "from sklearn.feature_extraction.text import TfidfVectorizer\n",
    "from sklearn.metrics import accuracy_score\n",
    "from sklearn.datasets import fetch_20newsgroups\n",
    "from sklearn.ensemble import RandomForestClassifier\n",
    "from sklearn.naive_bayes import MultinomialNB\n",
    "import pandas as pd\n",
    "import numpy as np\n",
    "np.random.seed(0)"
   ]
  },
  {
   "cell_type": "markdown",
   "metadata": {},
   "source": [
    "Now, we need to fetch our dataset. Run the cell below to download all the newsgroups articles and their corresponding labels. If this is the first time working with this dataset, scikit-learn will need to download all of the articles from an external repository--the cell below may take a little while to run. \n",
    "\n",
    "The actual dataset is quite large. To save us from extremely long runtimes, we'll work with only a subset of the classes. Here is a list of all the possible classes:\n",
    "\n",
    "<img src='classes.png'>\n",
    "\n",
    "For this lab, we'll only work with the following 5:\n",
    "\n",
    "* `'alt.atheism'`\n",
    "* `'comp.windows.x'`\n",
    "* `'rec.sport.hockey'`\n",
    "* `'sci.crypt'`\n",
    "* `'talk.politics.guns'`\n",
    "\n",
    "In the cell below:\n",
    "\n",
    "* Create a list called `categories` that contains the 5 newsgroups classes listed above, as strings.\n",
    "* Get the training set by calling `fetch_20newsgroups()` and passing in the following parameters:\n",
    "    * `subset='train'`\n",
    "    * `categories=categories`\n",
    "    * `remove=('headers', 'footers', 'quotes')`--this is so that the model can't overfit to metadata included in the articles that sometimes acts as a dead-giveaway as to what class the article belongs to. \n",
    "* Get the testing set as well by passing in the same parameters, with the exception of `subset='test` "
   ]
  },
  {
   "cell_type": "code",
   "execution_count": 3,
   "metadata": {},
   "outputs": [
    {
     "name": "stderr",
     "output_type": "stream",
     "text": [
      "Downloading 20news dataset. This may take a few minutes.\n",
      "Downloading dataset from https://ndownloader.figshare.com/files/5975967 (14 MB)\n"
     ]
    }
   ],
   "source": [
    "categories = ['alt.atheism', 'comp.windows.x', 'rec.sport.hockey', 'sci.crypt', 'talk.politics.guns']\n",
    "newsgroups_train = fetch_20newsgroups(subset='train', categories=categories, remove=('headers', 'footers', 'quotes'))\n",
    "newsgroups_test = fetch_20newsgroups(subset='test', categories=categories, remove=('headers', 'footers', 'quotes'))"
   ]
  },
  {
   "cell_type": "markdown",
   "metadata": {},
   "source": [
    "Great! Now that we have our data, let's break apart the data and the labels, and then inspect the class names to see what the actual newsgroups are.\n",
    "\n",
    "In the cell below:\n",
    "\n",
    "* Grab the data from `newsgroups_train.data` and store it in the appropriate variable. \n",
    "* Grab the labels from `newsgroups_train.target` and store it in the appropriate variable. \n",
    "* Grab the label names from `newsgroups_train.target_names` and store it in the appropriate variable. \n",
    "* Display the `label_names` so that we can see the different classes of articles that we're working with, and confirm that we grabbed the right ones. "
   ]
  },
  {
   "cell_type": "code",
   "execution_count": 4,
   "metadata": {},
   "outputs": [
    {
     "data": {
      "text/plain": [
       "['alt.atheism',\n",
       " 'comp.windows.x',\n",
       " 'rec.sport.hockey',\n",
       " 'sci.crypt',\n",
       " 'talk.politics.guns']"
      ]
     },
     "execution_count": 4,
     "metadata": {},
     "output_type": "execute_result"
    }
   ],
   "source": [
    "data = newsgroups_train.data\n",
    "target = newsgroups_train.target\n",
    "label_names = newsgroups_train.target_names\n",
    "label_names"
   ]
  },
  {
   "cell_type": "markdown",
   "metadata": {},
   "source": [
    "Finally, let's check the shape of `data` to see what our data looks like. We can do this by checking the `.shape` attribute of `newsgroups_train.filenames`.\n",
    "\n",
    "Do this now in the cell below."
   ]
  },
  {
   "cell_type": "code",
   "execution_count": 6,
   "metadata": {},
   "outputs": [
    {
     "data": {
      "text/plain": [
       "(2814,)"
      ]
     },
     "execution_count": 6,
     "metadata": {},
     "output_type": "execute_result"
    }
   ],
   "source": [
    "newsgroups_train.filenames.shape"
   ]
  },
  {
   "cell_type": "markdown",
   "metadata": {},
   "source": [
    "Our dataset contains 2,814 different articles spread across the 5 classes we chose. \n",
    "\n",
    "### Cleaning and Preprocessing Our Data\n",
    "\n",
    "Now that we have our data, the fun part begins. We'll need to begin by preprocessing and cleaning our text data. As you've seen throughout this section, preprocessing text data is a bit more challenging that working with more traditional data types because there's no clear-cut answer for exactly what sort of preprocessing and cleaning we need to do. When working with traditional datasets, our goals are generally pretty clear for this stage--normalize and clean our numerical data, convert categorical data to a numeric format, check for and deal with multicollinearity, etc. The steps we take are largely dependent on what the data already looks like when we get a hold of it. Text data is different--if we inspect our dataset, we'll see that it has 1 dimension--the only existing feature in our dataset right now is one that contains all of the actual articles. This means that we need to make some decisions about how to preprocess our data. Before we can begin cleaning and preprocessing our text data, we need to make some decisions about things such as:\n",
    "\n",
    "* Do we remove stop words, or not?\n",
    "* Do we stem or lemmatize our text data, or leave the words as is?\n",
    "* Is basic tokenization enough, or do we need to support special edge cases through the use of regex?\n",
    "* Do we use the entire vocabulary, or just limit the model to a subset of the most frequently used words? If so, how many?\n",
    "* Do we engineer other features, such as bigrams, or POS tags, or Mutual Information Scores?\n",
    "* What sort of vectorization should we use in our model? Boolean Vectorization? Count Vectorization? TF-IDF? More advanced vectorization strategies such as Word2Vec?\n",
    "\n",
    "\n",
    "These are all questions that we'll need to think about pretty much anytime we begin working with text data. \n",
    "\n",
    "Let's get right into it. We'll start by getting a list of all of the english stopwords, and concatenating them with a list of all the punctuation. \n",
    "\n",
    "In the cell below:\n",
    "\n",
    "* Get all the english stopwords from nltk.\n",
    "* Get all of the punctuation from `string.punctuation`, and convert it to a list.\n",
    "* Add the two lists together. Name the result `stopwords_list`.\n",
    "* Create another list containing various types of empty strings and ellipses, such as `[\"''\", '\"\"', '...', '``']`. Add this to our `stopwords_list`, so that we won't have tokens that are only empty quotes and such. "
   ]
  },
  {
   "cell_type": "code",
   "execution_count": 9,
   "metadata": {},
   "outputs": [],
   "source": [
    "stopwords_list = stopwords.words('English') + list(string.punctuation) + [\"''\", '\"\"', '...', '``']"
   ]
  },
  {
   "cell_type": "markdown",
   "metadata": {},
   "source": [
    "Great! We'll leave these alone for now, until we're ready to remove stop words after the tokenization step. \n",
    "\n",
    "Next, let's try tokenizing our dataset. In order to save ourselves some time, we'll write a function to clean our dataset, and then use python's built-in `map` function to clean every article in the dataset at the same time. \n",
    "\n",
    "In the cell below, complete the `process_article()` function. This function should:\n",
    "\n",
    "* Takes in one parameter, `article`\n",
    "* Tokenize the article using the appropriate function from nltk. \n",
    "* Lowercase every token, remove any stopwords found in `stopwords_list` from the tokenized article, and return the results. "
   ]
  },
  {
   "cell_type": "code",
   "execution_count": 18,
   "metadata": {},
   "outputs": [],
   "source": [
    "def process_article(article):\n",
    "    tokens = word_tokenize(article)\n",
    "    stopwords_removed = [token.lower() for token in tokens if token.lower() not in stopwords_list]\n",
    "    tokens = list(set(stopwords_removed))\n",
    "    return tokens"
   ]
  },
  {
   "cell_type": "markdown",
   "metadata": {},
   "source": [
    "Now that we have this function, let's go ahead and preprocess our data, and then move into exploring our dataset. \n",
    "\n",
    "In the cell below:\n",
    "\n",
    "* Use python's `map()` function and pass in 2 parameters: the `data`, and the `process_article` function. Make sure to wrap the whole map statement in a `list()`.\n",
    "\n",
    "**_Note:_** Running this cell may take a minute or two!"
   ]
  },
  {
   "cell_type": "code",
   "execution_count": 19,
   "metadata": {},
   "outputs": [],
   "source": [
    "processed_data = list(map(process_article, data))"
   ]
  },
  {
   "cell_type": "markdown",
   "metadata": {},
   "source": [
    "Great. Now, let's inspect the first article inside of `processed_data` to see how it looks. \n",
    "\n",
    "Do this now in the cell below."
   ]
  },
  {
   "cell_type": "code",
   "execution_count": 20,
   "metadata": {},
   "outputs": [
    {
     "data": {
      "text/plain": [
       "['ktvb',\n",
       " 'difficult',\n",
       " \"n't\",\n",
       " 'plans',\n",
       " 'story',\n",
       " 'five',\n",
       " '4',\n",
       " 'chased',\n",
       " 'cross-examined',\n",
       " 'rampton',\n",
       " 'commando',\n",
       " 'prosecution',\n",
       " 'ellison',\n",
       " 'interview',\n",
       " 'lawyers',\n",
       " 'made',\n",
       " 'discussed',\n",
       " 'm-16',\n",
       " 'lodge',\n",
       " 'said',\n",
       " 'testimony',\n",
       " 'u.s.',\n",
       " 'found',\n",
       " 'cabin',\n",
       " '1992',\n",
       " 'update',\n",
       " 'silenced',\n",
       " 'implying',\n",
       " 'rules',\n",
       " '1',\n",
       " 'find',\n",
       " 'statesman_',\n",
       " \"degan's\",\n",
       " 'barrel',\n",
       " 'bending',\n",
       " 'many',\n",
       " 'destroying',\n",
       " 'asked',\n",
       " 'sustainings',\n",
       " 'weapons',\n",
       " 'channel',\n",
       " 'objected',\n",
       " 'evidence',\n",
       " 'agents',\n",
       " 'deputy',\n",
       " 'prevent',\n",
       " 'introduce',\n",
       " 'believed',\n",
       " 'television',\n",
       " 'cartridges',\n",
       " 'fire',\n",
       " 'discrepancies',\n",
       " 'revolver',\n",
       " 'repeatedly',\n",
       " 'say',\n",
       " 'weaver',\n",
       " 'district',\n",
       " 'room',\n",
       " 'wrong',\n",
       " 'sustained',\n",
       " 'complained',\n",
       " 'federal',\n",
       " 'arguing',\n",
       " 'acknowledged',\n",
       " 'affiliate',\n",
       " 'objections',\n",
       " 'jury',\n",
       " 'however',\n",
       " 'rifle',\n",
       " 'without',\n",
       " 'calling',\n",
       " 'seconds',\n",
       " 'counsel',\n",
       " 'come',\n",
       " 'involve',\n",
       " 'randy',\n",
       " '16',\n",
       " 'thought',\n",
       " 'assistant',\n",
       " 'also',\n",
       " 'ca',\n",
       " 'advance',\n",
       " 'colt',\n",
       " 'credibility',\n",
       " 'panicked',\n",
       " 'address',\n",
       " 'conduct',\n",
       " 'one',\n",
       " 'apparently',\n",
       " 'spence',\n",
       " 'purpose',\n",
       " '15',\n",
       " 'credible',\n",
       " 'day',\n",
       " \"'re\",\n",
       " 'use',\n",
       " 'transcript',\n",
       " 'marshal',\n",
       " 'remember',\n",
       " 'seven',\n",
       " 'august',\n",
       " 'carried',\n",
       " \"'ll\",\n",
       " 'delaying',\n",
       " 'preposterous',\n",
       " 'namely',\n",
       " 'detected',\n",
       " 'attorneys',\n",
       " 'went',\n",
       " 'angle',\n",
       " 'somehow',\n",
       " 'virulent',\n",
       " \"'m\",\n",
       " 'must',\n",
       " 'either',\n",
       " 'could',\n",
       " 'special',\n",
       " 'weapon',\n",
       " 'edward',\n",
       " 'howen',\n",
       " '7',\n",
       " \"spence's\",\n",
       " 'called',\n",
       " 'matthews',\n",
       " 'fair',\n",
       " 'updates',\n",
       " 'dead',\n",
       " 'nbc',\n",
       " 'questions',\n",
       " 'extent',\n",
       " 'motion',\n",
       " \"howen's\",\n",
       " 'problem',\n",
       " 'got',\n",
       " '1993',\n",
       " 'cookie',\n",
       " 'engaging',\n",
       " 'like',\n",
       " 'first',\n",
       " 'stategy',\n",
       " 'primary',\n",
       " 'since',\n",
       " \"i'm\",\n",
       " 'although',\n",
       " 'local',\n",
       " 'similarity',\n",
       " 'leave',\n",
       " 'septtember',\n",
       " 'charlatan',\n",
       " 'last',\n",
       " 'asking',\n",
       " 'trial',\n",
       " 'mr.',\n",
       " 'personality',\n",
       " 'sequence',\n",
       " 'told',\n",
       " 'pointing',\n",
       " 'opportunity',\n",
       " 'gun',\n",
       " 'marked',\n",
       " 'friday',\n",
       " 'acting',\n",
       " 'orders',\n",
       " 'tell',\n",
       " 'killing',\n",
       " 'resumed',\n",
       " 'shooting',\n",
       " 'statements',\n",
       " 'return',\n",
       " 'court',\n",
       " 'restrict',\n",
       " 'play',\n",
       " 'mistrial',\n",
       " 'tactic',\n",
       " 'summarized',\n",
       " 'kill',\n",
       " 'would',\n",
       " 'government',\n",
       " 'stated',\n",
       " 'specific',\n",
       " 'disagreed',\n",
       " 'denied',\n",
       " 'events',\n",
       " 'stating',\n",
       " 'ronald',\n",
       " 'repeated',\n",
       " 'compressed',\n",
       " 'using',\n",
       " \"'s\",\n",
       " 'greg',\n",
       " 'seized',\n",
       " 'note',\n",
       " 'admonish',\n",
       " '9mm',\n",
       " 'version',\n",
       " 'fourth',\n",
       " 'weaver/kevin',\n",
       " 'grounds',\n",
       " 'questioned',\n",
       " 'conducted',\n",
       " 'unlikely',\n",
       " 'larry',\n",
       " 'wasting',\n",
       " 'read',\n",
       " 'synopsis',\n",
       " 'april',\n",
       " 'september',\n",
       " 'start',\n",
       " 'cross-examination',\n",
       " 'started',\n",
       " 'counselor',\n",
       " 'station',\n",
       " 'conceded',\n",
       " 'attacked',\n",
       " '_idaho',\n",
       " 'submachine',\n",
       " 'games',\n",
       " 'judge',\n",
       " 'sort',\n",
       " 'sure',\n",
       " 'violating',\n",
       " 'prejudiced',\n",
       " 'defense',\n",
       " 'simply',\n",
       " 'explicitly',\n",
       " 'going',\n",
       " 'fbi',\n",
       " 'believes',\n",
       " 'dog',\n",
       " 'notion',\n",
       " 'things',\n",
       " 'persisted',\n",
       " 'prosecutor',\n",
       " 'death',\n",
       " 'repetitive',\n",
       " 'cutter',\n",
       " 'conversations',\n",
       " 'cooper',\n",
       " 'improperly',\n",
       " 'together',\n",
       " 'reports',\n",
       " 'professionals',\n",
       " 'fired',\n",
       " 'almost',\n",
       " 'witnesses',\n",
       " 'moved',\n",
       " 'continued',\n",
       " 'proceded',\n",
       " 'harris',\n",
       " 'time',\n",
       " 'gerry',\n",
       " 'caustic',\n",
       " 'see',\n",
       " 'objecting',\n",
       " 'eyewitness',\n",
       " 'agent',\n",
       " 'comments',\n",
       " 'degan',\n",
       " 'attorney',\n",
       " 'responded']"
      ]
     },
     "execution_count": 20,
     "metadata": {},
     "output_type": "execute_result"
    }
   ],
   "source": [
    "processed_data[0]"
   ]
  },
  {
   "cell_type": "markdown",
   "metadata": {},
   "source": [
    "Now, let's move onto exploring the dataset a bit more. Let's start by getting the total vocabulary size of the training dataset. We can do this by creating a `set` object and then using it's `.update()` method to iteratively add each article. Since it's a set, it will only contain unique words, with no duplicates. \n",
    "\n",
    "In the cell below:\n",
    "\n",
    "* Create a `set` object called `total_vocab`.\n",
    "* Iterate through each tokenized article in `processed_data` and add it to the set using the set's `.update()` method.\n",
    "* Once all articles have been added, get the total number of unique words in our training set by taking the length of the set."
   ]
  },
  {
   "cell_type": "code",
   "execution_count": 21,
   "metadata": {},
   "outputs": [
    {
     "data": {
      "text/plain": [
       "46990"
      ]
     },
     "execution_count": 21,
     "metadata": {},
     "output_type": "execute_result"
    }
   ],
   "source": [
    "total_vocab = set()\n",
    "for tokenized_article in processed_data:\n",
    "    total_vocab.update(tokenized_article)\n",
    "    \n",
    "len(total_vocab)"
   ]
  },
  {
   "cell_type": "markdown",
   "metadata": {},
   "source": [
    "### Exploring Data With Frequency Distributions\n",
    "\n",
    "Great--our processed dataset contains 46,990 unique words! \n",
    "\n",
    "Next, let's create a Frequency Distribution to see which words are used the most! \n",
    "\n",
    "In order to do this, we'll need to concatenate every article into a single list, and then pass this list into a `FreqDist()` object. \n",
    "\n",
    "In the cell below:\n",
    "\n",
    "* Create an empty list called `articles_concat`\n",
    "* Iterate through `processed_data` and add every article it contains to `articles_concat`\n",
    "* Create a `FreqDist` object and pass in `articles_concat` as the input. \n",
    "* Display the top 200 most used words. "
   ]
  },
  {
   "cell_type": "code",
   "execution_count": 36,
   "metadata": {},
   "outputs": [],
   "source": [
    "articles_concat = []\n",
    "for article in processed_data:\n",
    "    articles_concat += article"
   ]
  },
  {
   "cell_type": "code",
   "execution_count": 39,
   "metadata": {},
   "outputs": [
    {
     "data": {
      "text/plain": [
       "[(\"n't\", 1235),\n",
       " (\"'s\", 1156),\n",
       " ('would', 915),\n",
       " ('one', 815),\n",
       " ('--', 697),\n",
       " ('like', 647),\n",
       " ('get', 612),\n",
       " ('know', 555),\n",
       " ('people', 552),\n",
       " ('could', 549),\n",
       " ('think', 517),\n",
       " ('time', 465),\n",
       " ('even', 462),\n",
       " ('use', 460),\n",
       " ('well', 454),\n",
       " ('also', 451),\n",
       " (\"'m\", 411),\n",
       " ('make', 401),\n",
       " ('good', 399),\n",
       " ('way', 394),\n",
       " ('see', 383),\n",
       " ('much', 382),\n",
       " ('first', 380),\n",
       " ('say', 354),\n",
       " ('right', 347),\n",
       " ('two', 339),\n",
       " ('many', 329),\n",
       " ('using', 315),\n",
       " ('anyone', 314),\n",
       " ('something', 313),\n",
       " ('may', 312),\n",
       " ('since', 305),\n",
       " (\"'ve\", 300),\n",
       " ('new', 300),\n",
       " ('us', 299),\n",
       " ('used', 297),\n",
       " ('want', 295),\n",
       " ('system', 292),\n",
       " ('need', 289),\n",
       " ('1', 282),\n",
       " ('really', 281),\n",
       " ('take', 276),\n",
       " ('go', 273),\n",
       " ('ca', 272),\n",
       " ('point', 269),\n",
       " ('please', 266),\n",
       " ('2', 265),\n",
       " ('without', 264),\n",
       " ('government', 262),\n",
       " ('another', 258),\n",
       " ('let', 258),\n",
       " ('might', 253),\n",
       " (\"'re\", 251),\n",
       " ('find', 250),\n",
       " ('last', 250),\n",
       " ('still', 250),\n",
       " ('things', 249),\n",
       " ('probably', 249),\n",
       " (\"'d\", 248),\n",
       " ('made', 247),\n",
       " ('sure', 246),\n",
       " ('better', 245),\n",
       " ('key', 245),\n",
       " ('going', 244),\n",
       " ('back', 244),\n",
       " ('must', 242),\n",
       " ('problem', 237),\n",
       " ('however', 232),\n",
       " ('work', 232),\n",
       " ('said', 229),\n",
       " (\"'ll\", 228),\n",
       " ('someone', 225),\n",
       " ('believe', 225),\n",
       " ('course', 222),\n",
       " ('read', 221),\n",
       " ('question', 221),\n",
       " ('case', 221),\n",
       " ('thanks', 220),\n",
       " ('x', 218),\n",
       " ('thing', 218),\n",
       " ('fact', 216),\n",
       " ('years', 215),\n",
       " ('give', 213),\n",
       " ('every', 211),\n",
       " ('number', 211),\n",
       " ('3', 209),\n",
       " ('never', 207),\n",
       " ('come', 205),\n",
       " ('either', 205),\n",
       " ('got', 205),\n",
       " ('long', 205),\n",
       " ('team', 205),\n",
       " ('public', 203),\n",
       " ('anything', 202),\n",
       " ('look', 202),\n",
       " ('least', 201),\n",
       " ('actually', 201),\n",
       " ('little', 200),\n",
       " ('second', 199),\n",
       " ('example', 198),\n",
       " ('information', 198),\n",
       " ('far', 196),\n",
       " ('game', 195),\n",
       " ('enough', 194),\n",
       " ('put', 194),\n",
       " ('help', 192),\n",
       " ('seems', 192),\n",
       " ('rather', 192),\n",
       " ('year', 192),\n",
       " ('try', 191),\n",
       " ('around', 189),\n",
       " ('possible', 188),\n",
       " ('law', 188),\n",
       " ('part', 188),\n",
       " ('set', 182),\n",
       " ('able', 181),\n",
       " ('best', 178),\n",
       " ('4', 175),\n",
       " ('tell', 175),\n",
       " ('real', 174),\n",
       " ('keep', 173),\n",
       " ('available', 172),\n",
       " ('though', 172),\n",
       " ('great', 172),\n",
       " ('true', 171),\n",
       " ('means', 170),\n",
       " ('already', 165),\n",
       " ('encryption', 164),\n",
       " ('following', 164),\n",
       " ('etc', 164),\n",
       " ('nothing', 163),\n",
       " ('different', 163),\n",
       " ('trying', 162),\n",
       " ('done', 162),\n",
       " ('bit', 162),\n",
       " ('given', 162),\n",
       " ('5', 162),\n",
       " ('ever', 160),\n",
       " ('perhaps', 160),\n",
       " ('world', 160),\n",
       " ('post', 159),\n",
       " ('yes', 159),\n",
       " ('makes', 158),\n",
       " ('wrong', 157),\n",
       " ('start', 156),\n",
       " ('next', 156),\n",
       " ('state', 156),\n",
       " ('gun', 155),\n",
       " ('mean', 155),\n",
       " ('chip', 155),\n",
       " ('always', 155),\n",
       " ('bad', 155),\n",
       " ('window', 155),\n",
       " ('yet', 155),\n",
       " ('seem', 154),\n",
       " ('code', 154),\n",
       " ('away', 154),\n",
       " ('play', 153),\n",
       " ('reason', 153),\n",
       " ('person', 152),\n",
       " ('clipper', 152),\n",
       " ('seen', 152),\n",
       " ('place', 151),\n",
       " ('list', 150),\n",
       " ('others', 150),\n",
       " ('order', 150),\n",
       " ('call', 150),\n",
       " ('maybe', 149),\n",
       " ('note', 148),\n",
       " ('keys', 148),\n",
       " ('program', 148),\n",
       " ('run', 148),\n",
       " ('less', 147),\n",
       " ('else', 146),\n",
       " ('thought', 145),\n",
       " ('control', 145),\n",
       " ('file', 142),\n",
       " ('end', 142),\n",
       " ('support', 141),\n",
       " ('several', 140),\n",
       " ('group', 140),\n",
       " ('name', 139),\n",
       " ('running', 138),\n",
       " ('instead', 138),\n",
       " ('likely', 138),\n",
       " ('found', 136),\n",
       " ('general', 136),\n",
       " ('lot', 136),\n",
       " ('line', 136),\n",
       " ('hockey', 136),\n",
       " ('quite', 135),\n",
       " ('idea', 135),\n",
       " ('agree', 134),\n",
       " ('version', 133),\n",
       " ('whole', 133),\n",
       " ('whether', 133),\n",
       " ('getting', 132),\n",
       " ('data', 132),\n",
       " ('heard', 131),\n",
       " ('phone', 130)]"
      ]
     },
     "execution_count": 39,
     "metadata": {},
     "output_type": "execute_result"
    }
   ],
   "source": [
    "articles_freqdist = FreqDist(articles_concat)\n",
    "articles_freqdist.most_common(200)"
   ]
  },
  {
   "cell_type": "markdown",
   "metadata": {},
   "source": [
    "At first glance, none of these words seem very informative--for most of the words represented here, it would be tough to guess if a given word is used equally among all 5 classes, or is disproportionately represented among a single class. This makes sense, because this frequency distribution  represents all the classes combined. This tells us that these words probably the least important, as they are most likely words that are used across multiple classes, thereby providing our model with little actual signal as to what class they belong to. This tells us that we probably want to focus on words that appear heavily in articles from a given class, but rarely appear in articles from other classes. You may recall from previous sections that this is exactly where **_TF-IDF Vectorization_** really shines!\n",
    "\n",
    "### Vectorizing with TF-IDF\n",
    "\n",
    "Although NLTK does provide functionality for vectorizing text documents with TF-IDF, we'll make use of scikit-learn's TF-IDF vectorizer, because we already have experience with it, and because it's a bit easier to use, especially when the models we'll be feeding the vectorized data into are from scikit-learn, meaning that we don't have to worry about doing any extra processing to ensure they play nicely together. \n",
    "\n",
    "Recall that in order to use scikit-learn's `TfidfVectorizer`, we need to pass in the data as raw text documents--the `TfidfVectorizer` handles the Count Vectorization process on it's own, and then fits and transforms the data into TF-IDF format. \n",
    "\n",
    "This means that we need to:\n",
    "\n",
    "* Import `TfidfVectorizer` from `sklearn.feature_extraction.text` and instantiate a `TfidfVectorizer` object\n",
    "* Call the vectorizer object's `fit_transform()` method and pass in our `data` as input. Store the results in `tf_idf_data_train`.\n",
    "* Also create a vectorized version of our testing data, which can be found in `newsgroups_test.data`. Store the results in `tf_idf_data_test`. \n",
    "\n",
    "\n",
    "**_NOTE:_** When transforming the test data, use the `.transform()` method, not the `.fit_transform()` method, as the vectorizer has already been fit to the training data. "
   ]
  },
  {
   "cell_type": "code",
   "execution_count": 40,
   "metadata": {},
   "outputs": [],
   "source": [
    "# Import TfidfVectorizer\n",
    "from sklearn.feature_extraction.text import TfidfVectorizer"
   ]
  },
  {
   "cell_type": "code",
   "execution_count": 41,
   "metadata": {},
   "outputs": [],
   "source": [
    "vectorizer = TfidfVectorizer()"
   ]
  },
  {
   "cell_type": "code",
   "execution_count": 42,
   "metadata": {},
   "outputs": [],
   "source": [
    "tf_idf_data_train = vectorizer.fit_transform(data)"
   ]
  },
  {
   "cell_type": "code",
   "execution_count": 43,
   "metadata": {},
   "outputs": [],
   "source": [
    "tf_idf_data_test = vectorizer.transform(newsgroups_test.data)"
   ]
  },
  {
   "cell_type": "markdown",
   "metadata": {},
   "source": [
    "### Modeling Our Data\n",
    "\n",
    "Great! We've now preprocessed and explored our dataset, let's take a second to see what our data looks like in vectorized form. \n",
    "\n",
    "In the cell below, get the shape of `tf_idf_data`."
   ]
  },
  {
   "cell_type": "code",
   "execution_count": 44,
   "metadata": {},
   "outputs": [
    {
     "data": {
      "text/plain": [
       "(2814, 36622)"
      ]
     },
     "execution_count": 44,
     "metadata": {},
     "output_type": "execute_result"
    }
   ],
   "source": [
    "tf_idf_data_train.shape"
   ]
  },
  {
   "cell_type": "markdown",
   "metadata": {},
   "source": [
    "Our vectorized data contains 2,814 articles, with 36,622 unique words in the vocabulary. However, the vast majority of these columns for any given article will be zero, since every article only contains a small subset of the total vocabulary. Recall that vectors mostly filled with zeros are referred to as **_Sparse Vectors_**. These are extremely common when working with text data. \n",
    "\n",
    "Let's check out the average number of non-zero columns in the vectors. Run the cell below to calculate this average. "
   ]
  },
  {
   "cell_type": "code",
   "execution_count": 45,
   "metadata": {},
   "outputs": [
    {
     "name": "stdout",
     "output_type": "stream",
     "text": [
      "Average Number of Non-Zero Elements in Vectorized Articles: 107.28038379530916\n",
      "Percentage of columns containing 0: 0.9970706028126451\n"
     ]
    }
   ],
   "source": [
    "non_zero_cols = tf_idf_data_train.nnz / float(tf_idf_data_train.shape[0])\n",
    "print(\"Average Number of Non-Zero Elements in Vectorized Articles: {}\".format(non_zero_cols))\n",
    "\n",
    "percent_sparse = 1 - (non_zero_cols / float(tf_idf_data_train.shape[1]))\n",
    "print('Percentage of columns containing 0: {}'.format(percent_sparse))"
   ]
  },
  {
   "cell_type": "markdown",
   "metadata": {},
   "source": [
    "As we can see from the output above, the average vectorized article contains 107 non-zero columns. This means that 99.7% of each vector is actually zeroes! This is one reason why it's best not to create your own vectorizers, and rely on professional packages such as scikit-learn and NLTK instead--they contain many speed and memory optimizations specifically for dealing with sparse vectors. This way, we aren't wasting a giant chunk of memory on a vectorized dataset that only has valid information in 0.3% of it. \n",
    "\n",
    "Now that we've vectorized our dataset, let's create some models and fit them to our vectorized training data. \n",
    "\n",
    "In the cell below:\n",
    "\n",
    "* Create a `MultinomialNB` and `RandomForestClassifier`. For the Random Forest, set `n_estimators` to `100`. Don't worry about tweaking any of the other parameters. \n",
    "* Fit each to our vectorized training data.\n",
    "* Create predictions for our training and testing sets\n",
    "* Calculate the `accuracy_score` for both the training and testing sets (you'll find our training labels stored within the variable `target`, and the testing labels stored within `newsgroups_test.target`)"
   ]
  },
  {
   "cell_type": "code",
   "execution_count": 46,
   "metadata": {},
   "outputs": [],
   "source": [
    "nb_classifier = MultinomialNB()\n",
    "rf_classifier = RandomForestClassifier(n_estimators=100)"
   ]
  },
  {
   "cell_type": "code",
   "execution_count": 48,
   "metadata": {},
   "outputs": [],
   "source": [
    "nb_classifier.fit(tf_idf_data_train, target)\n",
    "\n",
    "nb_train_preds = nb_classifier.predict(tf_idf_data_train)\n",
    "nb_test_preds = nb_classifier.predict(tf_idf_data_test)"
   ]
  },
  {
   "cell_type": "code",
   "execution_count": 49,
   "metadata": {},
   "outputs": [],
   "source": [
    "rf_classifier.fit(tf_idf_data_train, target)\n",
    "\n",
    "rf_train_preds = rf_classifier.predict(tf_idf_data_train)\n",
    "rf_test_preds = rf_classifier.predict(tf_idf_data_test)"
   ]
  },
  {
   "cell_type": "code",
   "execution_count": 50,
   "metadata": {},
   "outputs": [
    {
     "name": "stdout",
     "output_type": "stream",
     "text": [
      "Multinomial Naive Bayes\n",
      "Training Accuracy: 0.9531 \t\t Testing Accuracy: 0.8126\n",
      "\n",
      "----------------------------------------------------------------------\n",
      "\n",
      "Random Forest\n",
      "Training Accuracy: 0.9851 \t\t Testing Accuracy: 0.7896\n"
     ]
    }
   ],
   "source": [
    "nb_train_score = accuracy_score(target, nb_train_preds)\n",
    "nb_test_score = accuracy_score(newsgroups_test.target, nb_test_preds)\n",
    "rf_train_score = accuracy_score(target, rf_train_preds)\n",
    "rf_test_score = accuracy_score(newsgroups_test.target, rf_test_preds)\n",
    "\n",
    "print(\"Multinomial Naive Bayes\")\n",
    "print(\"Training Accuracy: {:.4} \\t\\t Testing Accuracy: {:.4}\".format(nb_train_score, nb_test_score))\n",
    "print(\"\")\n",
    "print('-'*70)\n",
    "print(\"\")\n",
    "print('Random Forest')\n",
    "print(\"Training Accuracy: {:.4} \\t\\t Testing Accuracy: {:.4}\".format(rf_train_score, rf_test_score))"
   ]
  },
  {
   "cell_type": "markdown",
   "metadata": {},
   "source": [
    "### Interpreting Results\n",
    "\n",
    "**_Question:_** Interpret the results seen above. How well did the models do? How do they compare to random guessing? How would you describe the quality of the model fit?\n",
    "\n",
    "Write your answer below:"
   ]
  },
  {
   "cell_type": "markdown",
   "metadata": {},
   "source": [
    "- There are 5 classes so if each class was equally represented then random guessing would lead to a 20% of guessing the correct class.  So our accuracies of around 80% are much much better than that\n",
    "- Each model has training accuracy much better than testing accuracy so there could be some overfitting happening for both"
   ]
  },
  {
   "cell_type": "markdown",
   "metadata": {},
   "source": [
    "# Summary\n",
    "\n",
    "In this lab, we used our NLP skills to clean, preprocess, explore, and fit models to text data for classification. This wasn't easy--great job!!"
   ]
  }
 ],
 "metadata": {
  "kernelspec": {
   "display_name": "learn-env",
   "language": "python",
   "name": "learn-env"
  },
  "language_info": {
   "codemirror_mode": {
    "name": "ipython",
    "version": 3
   },
   "file_extension": ".py",
   "mimetype": "text/x-python",
   "name": "python",
   "nbconvert_exporter": "python",
   "pygments_lexer": "ipython3",
   "version": "3.6.9"
  },
  "toc": {
   "base_numbering": 1,
   "nav_menu": {},
   "number_sections": true,
   "sideBar": true,
   "skip_h1_title": false,
   "title_cell": "Table of Contents",
   "title_sidebar": "Contents",
   "toc_cell": false,
   "toc_position": {},
   "toc_section_display": true,
   "toc_window_display": false
  }
 },
 "nbformat": 4,
 "nbformat_minor": 2
}
